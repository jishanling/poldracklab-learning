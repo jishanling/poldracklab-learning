{
 "metadata": {
  "name": ""
 },
 "nbformat": 3,
 "nbformat_minor": 0,
 "worksheets": [
  {
   "cells": [
    {
     "cell_type": "heading",
     "level": 1,
     "metadata": {},
     "source": [
      "Getting the data"
     ]
    },
    {
     "cell_type": "code",
     "collapsed": false,
     "input": [
      "cd /tmp"
     ],
     "language": "python",
     "metadata": {},
     "outputs": [
      {
       "output_type": "stream",
       "stream": "stdout",
       "text": [
        "/tmp\n"
       ]
      }
     ],
     "prompt_number": 5
    },
    {
     "cell_type": "code",
     "collapsed": false,
     "input": [
      "!wget https://dl.dropboxusercontent.com/u/412959/example1.zip"
     ],
     "language": "python",
     "metadata": {},
     "outputs": [
      {
       "output_type": "stream",
       "stream": "stdout",
       "text": [
        "--2013-12-16 15:57:34--  https://dl.dropboxusercontent.com/u/412959/example1.zip\r\n",
        "Resolving dl.dropboxusercontent.com (dl.dropboxusercontent.com)... 23.21.210.117\r\n",
        "Connecting to dl.dropboxusercontent.com (dl.dropboxusercontent.com)|23.21.210.117|:443... "
       ]
      },
      {
       "output_type": "stream",
       "stream": "stdout",
       "text": [
        "connected.\r\n"
       ]
      },
      {
       "output_type": "stream",
       "stream": "stdout",
       "text": [
        "HTTP request sent, awaiting response... "
       ]
      },
      {
       "output_type": "stream",
       "stream": "stdout",
       "text": [
        "200 OK\r\n",
        "Length: 22398 (22K) [application/zip]\r\n",
        "Saving to: `example1.zip'\r\n",
        "\r\n",
        "\r",
        " 0% [                                       ] 0           --.-K/s              \r",
        "100%[======================================>] 22,398      --.-K/s   in 0s      \r\n",
        "\r\n",
        "2013-12-16 15:57:35 (59.3 MB/s) - `example1.zip' saved [22398/22398]\r\n",
        "\r\n"
       ]
      }
     ],
     "prompt_number": 6
    },
    {
     "cell_type": "code",
     "collapsed": false,
     "input": [
      "!unzip example1.zip"
     ],
     "language": "python",
     "metadata": {},
     "outputs": [
      {
       "output_type": "stream",
       "stream": "stdout",
       "text": [
        "Archive:  example1.zip\r\n",
        "   creating: example1/\r\n",
        "  inflating: example1/3760_Age_20131129.csv  \r\n",
        "   creating: __MACOSX/\r\n",
        "   creating: __MACOSX/example1/\r\n",
        "  inflating: __MACOSX/example1/._3760_Age_20131129.csv  \r\n",
        "  inflating: example1/3760_MRI Log Sheet_20131129.csv  \r\n",
        "  inflating: __MACOSX/example1/._3760_MRI Log Sheet_20131129.csv  \r\n",
        "  inflating: example1/3760_WASI-II_20131129.csv  \r\n",
        "  inflating: __MACOSX/example1/._3760_WASI-II_20131129.csv  \r\n"
       ]
      }
     ],
     "prompt_number": 7
    },
    {
     "cell_type": "code",
     "collapsed": false,
     "input": [
      "cd example1/"
     ],
     "language": "python",
     "metadata": {},
     "outputs": [
      {
       "output_type": "stream",
       "stream": "stdout",
       "text": [
        "/tmp/example1\n"
       ]
      }
     ],
     "prompt_number": 8
    },
    {
     "cell_type": "code",
     "collapsed": false,
     "input": [
      "!head 3760_Age_20131129.csv "
     ],
     "language": "python",
     "metadata": {},
     "outputs": [
      {
       "output_type": "stream",
       "stream": "stdout",
       "text": [
        "\"\",\"\",\"\",\"Calculated Age\"\r\n",
        "\"URSI\",\"Subject Type\",\"Visit\",\"AGE_04\"\r\n",
        "\"A00031219\",\"Adolescent- Age  16-17\",\"\",\"17.249315068493\"\r\n",
        "\"A00037458\",\"Adolescent- Age  16-17\",\"\",\"16.145205479452\"\r\n",
        "\"A00034073\",\"Adolescent- Age  16-17\",\"\",\"16.271232876712\"\r\n",
        "\"A00034074\",\"Adolescent- Age  16-17\",\"\",\"17.347945205479\"\r\n",
        "\"A00035940\",\"Adolescent- Age  16-17\",\"\",\"16.271232876712\"\r\n",
        "\"A00037160\",\"Adult-Age 18-21\",\"\",\"18.745205479452\"\r\n",
        "\"A00037123\",\"Adult-Age 18-21\",\"\",\"18.575342465753\"\r\n",
        "\"A00029979\",\"Adult-Age 18-21\",\"\",\"20.153424657534\"\r\n"
       ]
      }
     ],
     "prompt_number": 9
    },
    {
     "cell_type": "heading",
     "level": 1,
     "metadata": {},
     "source": [
      "Learning pandas"
     ]
    },
    {
     "cell_type": "code",
     "collapsed": false,
     "input": [
      "import pandas as pd"
     ],
     "language": "python",
     "metadata": {},
     "outputs": [],
     "prompt_number": 10
    },
    {
     "cell_type": "markdown",
     "metadata": {},
     "source": [
      "Pandas is big - it has a lot of submodules and routines"
     ]
    },
    {
     "cell_type": "code",
     "collapsed": false,
     "input": [
      "len(dir(pd))"
     ],
     "language": "python",
     "metadata": {},
     "outputs": [
      {
       "metadata": {},
       "output_type": "pyout",
       "prompt_number": 11,
       "text": [
        "149"
       ]
      }
     ],
     "prompt_number": 11
    },
    {
     "cell_type": "heading",
     "level": 2,
     "metadata": {},
     "source": [
      "Reading the data"
     ]
    },
    {
     "cell_type": "code",
     "collapsed": false,
     "input": [
      "age = pd.read_csv?"
     ],
     "language": "python",
     "metadata": {},
     "outputs": [],
     "prompt_number": 12
    },
    {
     "cell_type": "code",
     "collapsed": false,
     "input": [
      "age = pd.read_csv"
     ],
     "language": "python",
     "metadata": {},
     "outputs": [],
     "prompt_number": 13
    },
    {
     "cell_type": "code",
     "collapsed": false,
     "input": [
      "age = pd.read_csv('3760_Age_20131129.csv')"
     ],
     "language": "python",
     "metadata": {},
     "outputs": [],
     "prompt_number": 14
    },
    {
     "cell_type": "code",
     "collapsed": false,
     "input": [
      "age"
     ],
     "language": "python",
     "metadata": {},
     "outputs": [
      {
       "html": [
        "<pre>\n",
        "&lt;class 'pandas.core.frame.DataFrame'&gt;\n",
        "Int64Index: 254 entries, 0 to 253\n",
        "Data columns (total 4 columns):\n",
        "Unnamed: 0        254  non-null values\n",
        "Unnamed: 1        254  non-null values\n",
        "Unnamed: 2        1  non-null values\n",
        "Calculated Age    254  non-null values\n",
        "dtypes: object(4)\n",
        "</pre>"
       ],
       "metadata": {},
       "output_type": "pyout",
       "prompt_number": 15,
       "text": [
        "<class 'pandas.core.frame.DataFrame'>\n",
        "Int64Index: 254 entries, 0 to 253\n",
        "Data columns (total 4 columns):\n",
        "Unnamed: 0        254  non-null values\n",
        "Unnamed: 1        254  non-null values\n",
        "Unnamed: 2        1  non-null values\n",
        "Calculated Age    254  non-null values\n",
        "dtypes: object(4)"
       ]
      }
     ],
     "prompt_number": 15
    },
    {
     "cell_type": "code",
     "collapsed": false,
     "input": [
      "age[:5]"
     ],
     "language": "python",
     "metadata": {},
     "outputs": [
      {
       "html": [
        "<div style=\"max-height:1000px;max-width:1500px;overflow:auto;\">\n",
        "<table border=\"1\" class=\"dataframe\">\n",
        "  <thead>\n",
        "    <tr style=\"text-align: right;\">\n",
        "      <th></th>\n",
        "      <th>Unnamed: 0</th>\n",
        "      <th>Unnamed: 1</th>\n",
        "      <th>Unnamed: 2</th>\n",
        "      <th>Calculated Age</th>\n",
        "    </tr>\n",
        "  </thead>\n",
        "  <tbody>\n",
        "    <tr>\n",
        "      <th>0</th>\n",
        "      <td>      URSI</td>\n",
        "      <td>           Subject Type</td>\n",
        "      <td> Visit</td>\n",
        "      <td>          AGE_04</td>\n",
        "    </tr>\n",
        "    <tr>\n",
        "      <th>1</th>\n",
        "      <td> A00031219</td>\n",
        "      <td> Adolescent- Age  16-17</td>\n",
        "      <td>   NaN</td>\n",
        "      <td> 17.249315068493</td>\n",
        "    </tr>\n",
        "    <tr>\n",
        "      <th>2</th>\n",
        "      <td> A00037458</td>\n",
        "      <td> Adolescent- Age  16-17</td>\n",
        "      <td>   NaN</td>\n",
        "      <td> 16.145205479452</td>\n",
        "    </tr>\n",
        "    <tr>\n",
        "      <th>3</th>\n",
        "      <td> A00034073</td>\n",
        "      <td> Adolescent- Age  16-17</td>\n",
        "      <td>   NaN</td>\n",
        "      <td> 16.271232876712</td>\n",
        "    </tr>\n",
        "    <tr>\n",
        "      <th>4</th>\n",
        "      <td> A00034074</td>\n",
        "      <td> Adolescent- Age  16-17</td>\n",
        "      <td>   NaN</td>\n",
        "      <td> 17.347945205479</td>\n",
        "    </tr>\n",
        "  </tbody>\n",
        "</table>\n",
        "</div>"
       ],
       "metadata": {},
       "output_type": "pyout",
       "prompt_number": 16,
       "text": [
        "  Unnamed: 0              Unnamed: 1 Unnamed: 2   Calculated Age\n",
        "0       URSI            Subject Type      Visit           AGE_04\n",
        "1  A00031219  Adolescent- Age  16-17        NaN  17.249315068493\n",
        "2  A00037458  Adolescent- Age  16-17        NaN  16.145205479452\n",
        "3  A00034073  Adolescent- Age  16-17        NaN  16.271232876712\n",
        "4  A00034074  Adolescent- Age  16-17        NaN  17.347945205479"
       ]
      }
     ],
     "prompt_number": 16
    },
    {
     "cell_type": "markdown",
     "metadata": {},
     "source": [
      "Data does not begin till the third row. Lets skip first and use the second row as header."
     ]
    },
    {
     "cell_type": "code",
     "collapsed": false,
     "input": [
      "age = pd.read_csv('3760_Age_20131129.csv', skiprows=1)\n",
      "age[:5]"
     ],
     "language": "python",
     "metadata": {},
     "outputs": [
      {
       "html": [
        "<div style=\"max-height:1000px;max-width:1500px;overflow:auto;\">\n",
        "<table border=\"1\" class=\"dataframe\">\n",
        "  <thead>\n",
        "    <tr style=\"text-align: right;\">\n",
        "      <th></th>\n",
        "      <th>URSI</th>\n",
        "      <th>Subject Type</th>\n",
        "      <th>Visit</th>\n",
        "      <th>AGE_04</th>\n",
        "    </tr>\n",
        "  </thead>\n",
        "  <tbody>\n",
        "    <tr>\n",
        "      <th>0</th>\n",
        "      <td> A00031219</td>\n",
        "      <td> Adolescent- Age  16-17</td>\n",
        "      <td>NaN</td>\n",
        "      <td> 17.249315</td>\n",
        "    </tr>\n",
        "    <tr>\n",
        "      <th>1</th>\n",
        "      <td> A00037458</td>\n",
        "      <td> Adolescent- Age  16-17</td>\n",
        "      <td>NaN</td>\n",
        "      <td> 16.145205</td>\n",
        "    </tr>\n",
        "    <tr>\n",
        "      <th>2</th>\n",
        "      <td> A00034073</td>\n",
        "      <td> Adolescent- Age  16-17</td>\n",
        "      <td>NaN</td>\n",
        "      <td> 16.271233</td>\n",
        "    </tr>\n",
        "    <tr>\n",
        "      <th>3</th>\n",
        "      <td> A00034074</td>\n",
        "      <td> Adolescent- Age  16-17</td>\n",
        "      <td>NaN</td>\n",
        "      <td> 17.347945</td>\n",
        "    </tr>\n",
        "    <tr>\n",
        "      <th>4</th>\n",
        "      <td> A00035940</td>\n",
        "      <td> Adolescent- Age  16-17</td>\n",
        "      <td>NaN</td>\n",
        "      <td> 16.271233</td>\n",
        "    </tr>\n",
        "  </tbody>\n",
        "</table>\n",
        "</div>"
       ],
       "metadata": {},
       "output_type": "pyout",
       "prompt_number": 17,
       "text": [
        "        URSI            Subject Type  Visit     AGE_04\n",
        "0  A00031219  Adolescent- Age  16-17    NaN  17.249315\n",
        "1  A00037458  Adolescent- Age  16-17    NaN  16.145205\n",
        "2  A00034073  Adolescent- Age  16-17    NaN  16.271233\n",
        "3  A00034074  Adolescent- Age  16-17    NaN  17.347945\n",
        "4  A00035940  Adolescent- Age  16-17    NaN  16.271233"
       ]
      }
     ],
     "prompt_number": 17
    },
    {
     "cell_type": "markdown",
     "metadata": {},
     "source": [
      "We would also like the URSI to be the unique index. It will be useful later for  merging data between tables"
     ]
    },
    {
     "cell_type": "code",
     "collapsed": false,
     "input": [
      "age = pd.read_csv('3760_Age_20131129.csv', skiprows=1, index_col='URSI')\n",
      "age[:5]"
     ],
     "language": "python",
     "metadata": {},
     "outputs": [
      {
       "html": [
        "<div style=\"max-height:1000px;max-width:1500px;overflow:auto;\">\n",
        "<table border=\"1\" class=\"dataframe\">\n",
        "  <thead>\n",
        "    <tr style=\"text-align: right;\">\n",
        "      <th></th>\n",
        "      <th>Subject Type</th>\n",
        "      <th>Visit</th>\n",
        "      <th>AGE_04</th>\n",
        "    </tr>\n",
        "    <tr>\n",
        "      <th>URSI</th>\n",
        "      <th></th>\n",
        "      <th></th>\n",
        "      <th></th>\n",
        "    </tr>\n",
        "  </thead>\n",
        "  <tbody>\n",
        "    <tr>\n",
        "      <th>A00031219</th>\n",
        "      <td> Adolescent- Age  16-17</td>\n",
        "      <td>NaN</td>\n",
        "      <td> 17.249315</td>\n",
        "    </tr>\n",
        "    <tr>\n",
        "      <th>A00037458</th>\n",
        "      <td> Adolescent- Age  16-17</td>\n",
        "      <td>NaN</td>\n",
        "      <td> 16.145205</td>\n",
        "    </tr>\n",
        "    <tr>\n",
        "      <th>A00034073</th>\n",
        "      <td> Adolescent- Age  16-17</td>\n",
        "      <td>NaN</td>\n",
        "      <td> 16.271233</td>\n",
        "    </tr>\n",
        "    <tr>\n",
        "      <th>A00034074</th>\n",
        "      <td> Adolescent- Age  16-17</td>\n",
        "      <td>NaN</td>\n",
        "      <td> 17.347945</td>\n",
        "    </tr>\n",
        "    <tr>\n",
        "      <th>A00035940</th>\n",
        "      <td> Adolescent- Age  16-17</td>\n",
        "      <td>NaN</td>\n",
        "      <td> 16.271233</td>\n",
        "    </tr>\n",
        "  </tbody>\n",
        "</table>\n",
        "</div>"
       ],
       "metadata": {},
       "output_type": "pyout",
       "prompt_number": 18,
       "text": [
        "                     Subject Type  Visit     AGE_04\n",
        "URSI                                               \n",
        "A00031219  Adolescent- Age  16-17    NaN  17.249315\n",
        "A00037458  Adolescent- Age  16-17    NaN  16.145205\n",
        "A00034073  Adolescent- Age  16-17    NaN  16.271233\n",
        "A00034074  Adolescent- Age  16-17    NaN  17.347945\n",
        "A00035940  Adolescent- Age  16-17    NaN  16.271233"
       ]
      }
     ],
     "prompt_number": 18
    },
    {
     "cell_type": "heading",
     "level": 2,
     "metadata": {},
     "source": [
      "Descriptive statistics"
     ]
    },
    {
     "cell_type": "markdown",
     "metadata": {},
     "source": [
      "Let's see how many subjects do we have"
     ]
    },
    {
     "cell_type": "code",
     "collapsed": false,
     "input": [
      "len(age)"
     ],
     "language": "python",
     "metadata": {},
     "outputs": [
      {
       "metadata": {},
       "output_type": "pyout",
       "prompt_number": 19,
       "text": [
        "253"
       ]
      }
     ],
     "prompt_number": 19
    },
    {
     "cell_type": "markdown",
     "metadata": {},
     "source": [
      "What is the average age in this sample?"
     ]
    },
    {
     "cell_type": "code",
     "collapsed": false,
     "input": [
      "age_col = age['AGE_04']\n",
      "age_col.mean()"
     ],
     "language": "python",
     "metadata": {},
     "outputs": [
      {
       "metadata": {},
       "output_type": "pyout",
       "prompt_number": 20,
       "text": [
        "40.393989929070372"
       ]
      }
     ],
     "prompt_number": 20
    },
    {
     "cell_type": "markdown",
     "metadata": {},
     "source": [
      "We can get a lot of summary statistics in one go"
     ]
    },
    {
     "cell_type": "code",
     "collapsed": false,
     "input": [
      "age.describe()"
     ],
     "language": "python",
     "metadata": {},
     "outputs": [
      {
       "html": [
        "<div style=\"max-height:1000px;max-width:1500px;overflow:auto;\">\n",
        "<table border=\"1\" class=\"dataframe\">\n",
        "  <thead>\n",
        "    <tr style=\"text-align: right;\">\n",
        "      <th></th>\n",
        "      <th>Visit</th>\n",
        "      <th>AGE_04</th>\n",
        "    </tr>\n",
        "  </thead>\n",
        "  <tbody>\n",
        "    <tr>\n",
        "      <th>count</th>\n",
        "      <td>  0</td>\n",
        "      <td> 253.000000</td>\n",
        "    </tr>\n",
        "    <tr>\n",
        "      <th>mean</th>\n",
        "      <td>NaN</td>\n",
        "      <td>  40.393990</td>\n",
        "    </tr>\n",
        "    <tr>\n",
        "      <th>std</th>\n",
        "      <td>NaN</td>\n",
        "      <td>  20.110262</td>\n",
        "    </tr>\n",
        "    <tr>\n",
        "      <th>min</th>\n",
        "      <td>NaN</td>\n",
        "      <td>   6.972603</td>\n",
        "    </tr>\n",
        "    <tr>\n",
        "      <th>25%</th>\n",
        "      <td>NaN</td>\n",
        "      <td>  21.602740</td>\n",
        "    </tr>\n",
        "    <tr>\n",
        "      <th>50%</th>\n",
        "      <td>NaN</td>\n",
        "      <td>  40.583562</td>\n",
        "    </tr>\n",
        "    <tr>\n",
        "      <th>75%</th>\n",
        "      <td>NaN</td>\n",
        "      <td>  57.101370</td>\n",
        "    </tr>\n",
        "    <tr>\n",
        "      <th>max</th>\n",
        "      <td>NaN</td>\n",
        "      <td>  84.780822</td>\n",
        "    </tr>\n",
        "  </tbody>\n",
        "</table>\n",
        "</div>"
       ],
       "metadata": {},
       "output_type": "pyout",
       "prompt_number": 21,
       "text": [
        "       Visit      AGE_04\n",
        "count      0  253.000000\n",
        "mean     NaN   40.393990\n",
        "std      NaN   20.110262\n",
        "min      NaN    6.972603\n",
        "25%      NaN   21.602740\n",
        "50%      NaN   40.583562\n",
        "75%      NaN   57.101370\n",
        "max      NaN   84.780822"
       ]
      }
     ],
     "prompt_number": 21
    },
    {
     "cell_type": "markdown",
     "metadata": {},
     "source": [
      "We can also plot the distribution of age."
     ]
    },
    {
     "cell_type": "code",
     "collapsed": false,
     "input": [
      "age_col.hist()\n",
      "xlabel(\"Age [years]\")"
     ],
     "language": "python",
     "metadata": {},
     "outputs": [
      {
       "metadata": {},
       "output_type": "pyout",
       "prompt_number": 22,
       "text": [
        "<matplotlib.text.Text at 0x302af90>"
       ]
      },
      {
       "metadata": {},
       "output_type": "display_data",
       "png": "[encoded data removed]",
       "text": [
        "<matplotlib.figure.Figure at 0x2f6f910>"
       ]
      }
     ],
     "prompt_number": 22
    },
    {
     "cell_type": "heading",
     "level": 2,
     "metadata": {},
     "source": [
      "Selecting data"
     ]
    },
    {
     "cell_type": "markdown",
     "metadata": {},
     "source": [
      "Let's find all subject above eighty"
     ]
    },
    {
     "cell_type": "code",
     "collapsed": false,
     "input": [
      "age[age['AGE_04'] > 80]"
     ],
     "language": "python",
     "metadata": {},
     "outputs": [
      {
       "html": [
        "<div style=\"max-height:1000px;max-width:1500px;overflow:auto;\">\n",
        "<table border=\"1\" class=\"dataframe\">\n",
        "  <thead>\n",
        "    <tr style=\"text-align: right;\">\n",
        "      <th></th>\n",
        "      <th>Subject Type</th>\n",
        "      <th>Visit</th>\n",
        "      <th>AGE_04</th>\n",
        "    </tr>\n",
        "    <tr>\n",
        "      <th>URSI</th>\n",
        "      <th></th>\n",
        "      <th></th>\n",
        "      <th></th>\n",
        "    </tr>\n",
        "  </thead>\n",
        "  <tbody>\n",
        "    <tr>\n",
        "      <th>A00019903</th>\n",
        "      <td> Older Adult- Age 65-85</td>\n",
        "      <td>NaN</td>\n",
        "      <td> 83.183562</td>\n",
        "    </tr>\n",
        "    <tr>\n",
        "      <th>A00035054</th>\n",
        "      <td> Older Adult- Age 65-85</td>\n",
        "      <td>NaN</td>\n",
        "      <td> 81.734247</td>\n",
        "    </tr>\n",
        "    <tr>\n",
        "      <th>A00028522</th>\n",
        "      <td> Older Adult- Age 65-85</td>\n",
        "      <td>NaN</td>\n",
        "      <td> 84.780822</td>\n",
        "    </tr>\n",
        "    <tr>\n",
        "      <th>A00035337</th>\n",
        "      <td> Older Adult- Age 65-85</td>\n",
        "      <td>NaN</td>\n",
        "      <td> 81.906849</td>\n",
        "    </tr>\n",
        "    <tr>\n",
        "      <th>A00028858</th>\n",
        "      <td> Older Adult- Age 65-85</td>\n",
        "      <td>NaN</td>\n",
        "      <td> 80.265753</td>\n",
        "    </tr>\n",
        "    <tr>\n",
        "      <th>A00028521</th>\n",
        "      <td> Older Adult- Age 65-85</td>\n",
        "      <td>NaN</td>\n",
        "      <td> 80.219178</td>\n",
        "    </tr>\n",
        "  </tbody>\n",
        "</table>\n",
        "</div>"
       ],
       "metadata": {},
       "output_type": "pyout",
       "prompt_number": 23,
       "text": [
        "                     Subject Type  Visit     AGE_04\n",
        "URSI                                               \n",
        "A00019903  Older Adult- Age 65-85    NaN  83.183562\n",
        "A00035054  Older Adult- Age 65-85    NaN  81.734247\n",
        "A00028522  Older Adult- Age 65-85    NaN  84.780822\n",
        "A00035337  Older Adult- Age 65-85    NaN  81.906849\n",
        "A00028858  Older Adult- Age 65-85    NaN  80.265753\n",
        "A00028521  Older Adult- Age 65-85    NaN  80.219178"
       ]
      }
     ],
     "prompt_number": 23
    },
    {
     "cell_type": "markdown",
     "metadata": {},
     "source": [
      "Subjects between twenty and thirty"
     ]
    },
    {
     "cell_type": "code",
     "collapsed": false,
     "input": [
      "age[(20 < age['AGE_04']) & (age['AGE_04'] < 30)]"
     ],
     "language": "python",
     "metadata": {},
     "outputs": [
      {
       "html": [
        "<div style=\"max-height:1000px;max-width:1500px;overflow:auto;\">\n",
        "<table border=\"1\" class=\"dataframe\">\n",
        "  <thead>\n",
        "    <tr style=\"text-align: right;\">\n",
        "      <th></th>\n",
        "      <th>Subject Type</th>\n",
        "      <th>Visit</th>\n",
        "      <th>AGE_04</th>\n",
        "    </tr>\n",
        "    <tr>\n",
        "      <th>URSI</th>\n",
        "      <th></th>\n",
        "      <th></th>\n",
        "      <th></th>\n",
        "    </tr>\n",
        "  </thead>\n",
        "  <tbody>\n",
        "    <tr>\n",
        "      <th>A00029979</th>\n",
        "      <td>  Adult-Age 18-21</td>\n",
        "      <td>NaN</td>\n",
        "      <td> 20.153425</td>\n",
        "    </tr>\n",
        "    <tr>\n",
        "      <th>A00037531</th>\n",
        "      <td>  Adult-Age 18-21</td>\n",
        "      <td>NaN</td>\n",
        "      <td> 21.602740</td>\n",
        "    </tr>\n",
        "    <tr>\n",
        "      <th>A00032007</th>\n",
        "      <td>  Adult-Age 18-21</td>\n",
        "      <td>NaN</td>\n",
        "      <td> 20.317808</td>\n",
        "    </tr>\n",
        "    <tr>\n",
        "      <th>A00031166</th>\n",
        "      <td>  Adult-Age 18-21</td>\n",
        "      <td>NaN</td>\n",
        "      <td> 21.356164</td>\n",
        "    </tr>\n",
        "    <tr>\n",
        "      <th>A00031459</th>\n",
        "      <td>  Adult-Age 18-21</td>\n",
        "      <td>NaN</td>\n",
        "      <td> 20.276712</td>\n",
        "    </tr>\n",
        "    <tr>\n",
        "      <th>A00037476</th>\n",
        "      <td>  Adult-Age 18-21</td>\n",
        "      <td>NaN</td>\n",
        "      <td> 20.857534</td>\n",
        "    </tr>\n",
        "    <tr>\n",
        "      <th>A00035926</th>\n",
        "      <td>  Adult-Age 18-21</td>\n",
        "      <td>NaN</td>\n",
        "      <td> 21.167123</td>\n",
        "    </tr>\n",
        "    <tr>\n",
        "      <th>A00028287</th>\n",
        "      <td>  Adult-Age 18-21</td>\n",
        "      <td>NaN</td>\n",
        "      <td> 21.290411</td>\n",
        "    </tr>\n",
        "    <tr>\n",
        "      <th>A00029076</th>\n",
        "      <td>  Adult-Age 18-21</td>\n",
        "      <td>NaN</td>\n",
        "      <td> 20.926027</td>\n",
        "    </tr>\n",
        "    <tr>\n",
        "      <th>A00035960</th>\n",
        "      <td>  Adult-Age 18-21</td>\n",
        "      <td>NaN</td>\n",
        "      <td> 21.139726</td>\n",
        "    </tr>\n",
        "    <tr>\n",
        "      <th>A00029092</th>\n",
        "      <td>  Adult-Age 18-21</td>\n",
        "      <td>NaN</td>\n",
        "      <td> 20.635616</td>\n",
        "    </tr>\n",
        "    <tr>\n",
        "      <th>A00028656</th>\n",
        "      <td>  Adult-Age 18-21</td>\n",
        "      <td>NaN</td>\n",
        "      <td> 20.772603</td>\n",
        "    </tr>\n",
        "    <tr>\n",
        "      <th>A00033248</th>\n",
        "      <td>  Adult-Age 18-21</td>\n",
        "      <td>NaN</td>\n",
        "      <td> 21.682192</td>\n",
        "    </tr>\n",
        "    <tr>\n",
        "      <th>A00028429</th>\n",
        "      <td>  Adult-Age 18-21</td>\n",
        "      <td>NaN</td>\n",
        "      <td> 20.893151</td>\n",
        "    </tr>\n",
        "    <tr>\n",
        "      <th>A00033640</th>\n",
        "      <td>  Adult-Age 18-21</td>\n",
        "      <td>NaN</td>\n",
        "      <td> 21.219178</td>\n",
        "    </tr>\n",
        "    <tr>\n",
        "      <th>A00037116</th>\n",
        "      <td> Adult- Age 22-59</td>\n",
        "      <td>NaN</td>\n",
        "      <td> 23.715068</td>\n",
        "    </tr>\n",
        "    <tr>\n",
        "      <th>A00031604</th>\n",
        "      <td> Adult- Age 22-59</td>\n",
        "      <td>NaN</td>\n",
        "      <td> 25.654795</td>\n",
        "    </tr>\n",
        "    <tr>\n",
        "      <th>A00010893</th>\n",
        "      <td> Adult- Age 22-59</td>\n",
        "      <td>NaN</td>\n",
        "      <td> 28.909589</td>\n",
        "    </tr>\n",
        "    <tr>\n",
        "      <th>A00029127</th>\n",
        "      <td> Adult- Age 22-59</td>\n",
        "      <td>NaN</td>\n",
        "      <td> 23.920548</td>\n",
        "    </tr>\n",
        "    <tr>\n",
        "      <th>A00037266</th>\n",
        "      <td> Adult- Age 22-59</td>\n",
        "      <td>NaN</td>\n",
        "      <td> 24.835616</td>\n",
        "    </tr>\n",
        "    <tr>\n",
        "      <th>A00028177</th>\n",
        "      <td> Adult- Age 22-59</td>\n",
        "      <td>NaN</td>\n",
        "      <td> 24.241096</td>\n",
        "    </tr>\n",
        "    <tr>\n",
        "      <th>A00028207</th>\n",
        "      <td> Adult- Age 22-59</td>\n",
        "      <td>NaN</td>\n",
        "      <td> 26.931507</td>\n",
        "    </tr>\n",
        "    <tr>\n",
        "      <th>A00028352</th>\n",
        "      <td> Adult- Age 22-59</td>\n",
        "      <td>NaN</td>\n",
        "      <td> 23.830137</td>\n",
        "    </tr>\n",
        "    <tr>\n",
        "      <th>A00029231</th>\n",
        "      <td> Adult- Age 22-59</td>\n",
        "      <td>NaN</td>\n",
        "      <td> 23.290411</td>\n",
        "    </tr>\n",
        "    <tr>\n",
        "      <th>A00028606</th>\n",
        "      <td> Adult- Age 22-59</td>\n",
        "      <td>NaN</td>\n",
        "      <td> 22.073973</td>\n",
        "    </tr>\n",
        "    <tr>\n",
        "      <th>A00034854</th>\n",
        "      <td> Adult- Age 22-59</td>\n",
        "      <td>NaN</td>\n",
        "      <td> 21.282192</td>\n",
        "    </tr>\n",
        "    <tr>\n",
        "      <th>A00037118</th>\n",
        "      <td> Adult- Age 22-59</td>\n",
        "      <td>NaN</td>\n",
        "      <td> 27.079452</td>\n",
        "    </tr>\n",
        "    <tr>\n",
        "      <th>A00034193</th>\n",
        "      <td> Adult- Age 22-59</td>\n",
        "      <td>NaN</td>\n",
        "      <td> 27.901370</td>\n",
        "    </tr>\n",
        "    <tr>\n",
        "      <th>A00035608</th>\n",
        "      <td> Adult- Age 22-59</td>\n",
        "      <td>NaN</td>\n",
        "      <td> 24.391781</td>\n",
        "    </tr>\n",
        "    <tr>\n",
        "      <th>A00035553</th>\n",
        "      <td> Adult- Age 22-59</td>\n",
        "      <td>NaN</td>\n",
        "      <td> 23.309589</td>\n",
        "    </tr>\n",
        "    <tr>\n",
        "      <th>A00035881</th>\n",
        "      <td> Adult- Age 22-59</td>\n",
        "      <td>NaN</td>\n",
        "      <td> 24.526027</td>\n",
        "    </tr>\n",
        "    <tr>\n",
        "      <th>A00033232</th>\n",
        "      <td> Adult- Age 22-59</td>\n",
        "      <td>NaN</td>\n",
        "      <td> 27.939726</td>\n",
        "    </tr>\n",
        "    <tr>\n",
        "      <th>A00037378</th>\n",
        "      <td> Adult- Age 22-59</td>\n",
        "      <td>NaN</td>\n",
        "      <td> 24.145205</td>\n",
        "    </tr>\n",
        "    <tr>\n",
        "      <th>A00033247</th>\n",
        "      <td> Adult- Age 22-59</td>\n",
        "      <td>NaN</td>\n",
        "      <td> 22.032877</td>\n",
        "    </tr>\n",
        "    <tr>\n",
        "      <th>A00033747</th>\n",
        "      <td> Adult- Age 22-59</td>\n",
        "      <td>NaN</td>\n",
        "      <td> 26.257534</td>\n",
        "    </tr>\n",
        "    <tr>\n",
        "      <th>A00035840</th>\n",
        "      <td> Adult- Age 22-59</td>\n",
        "      <td>NaN</td>\n",
        "      <td> 25.405479</td>\n",
        "    </tr>\n",
        "    <tr>\n",
        "      <th>A00031549</th>\n",
        "      <td> Adult- Age 22-59</td>\n",
        "      <td>NaN</td>\n",
        "      <td> 23.446575</td>\n",
        "    </tr>\n",
        "    <tr>\n",
        "      <th>A00033643</th>\n",
        "      <td> Adult- Age 22-59</td>\n",
        "      <td>NaN</td>\n",
        "      <td> 26.293151</td>\n",
        "    </tr>\n",
        "    <tr>\n",
        "      <th>A00035943</th>\n",
        "      <td> Adult- Age 22-59</td>\n",
        "      <td>NaN</td>\n",
        "      <td> 26.263014</td>\n",
        "    </tr>\n",
        "    <tr>\n",
        "      <th>A00028694</th>\n",
        "      <td> Adult- Age 22-59</td>\n",
        "      <td>NaN</td>\n",
        "      <td> 25.032877</td>\n",
        "    </tr>\n",
        "    <tr>\n",
        "      <th>A00031272</th>\n",
        "      <td> Adult- Age 22-59</td>\n",
        "      <td>NaN</td>\n",
        "      <td> 22.167123</td>\n",
        "    </tr>\n",
        "    <tr>\n",
        "      <th>A00035363</th>\n",
        "      <td> Adult- Age 22-59</td>\n",
        "      <td>NaN</td>\n",
        "      <td> 22.172603</td>\n",
        "    </tr>\n",
        "    <tr>\n",
        "      <th>A00008399</th>\n",
        "      <td> Adult- Age 22-59</td>\n",
        "      <td>NaN</td>\n",
        "      <td> 23.389041</td>\n",
        "    </tr>\n",
        "    <tr>\n",
        "      <th>A00037117</th>\n",
        "      <td> Adult- Age 22-59</td>\n",
        "      <td>NaN</td>\n",
        "      <td> 27.558904</td>\n",
        "    </tr>\n",
        "    <tr>\n",
        "      <th>A00035879</th>\n",
        "      <td> Adult- Age 22-59</td>\n",
        "      <td>NaN</td>\n",
        "      <td> 22.545205</td>\n",
        "    </tr>\n",
        "    <tr>\n",
        "      <th>A00037122</th>\n",
        "      <td> Adult- Age 22-59</td>\n",
        "      <td>NaN</td>\n",
        "      <td> 27.101370</td>\n",
        "    </tr>\n",
        "    <tr>\n",
        "      <th>A00023510</th>\n",
        "      <td> Adult- Age 22-59</td>\n",
        "      <td>NaN</td>\n",
        "      <td> 23.342466</td>\n",
        "    </tr>\n",
        "    <tr>\n",
        "      <th>A00028185</th>\n",
        "      <td> Adult- Age 22-59</td>\n",
        "      <td>NaN</td>\n",
        "      <td> 26.569863</td>\n",
        "    </tr>\n",
        "    <tr>\n",
        "      <th>A00037647</th>\n",
        "      <td> Adult- Age 22-59</td>\n",
        "      <td>NaN</td>\n",
        "      <td> 24.520548</td>\n",
        "    </tr>\n",
        "    <tr>\n",
        "      <th>A00027544</th>\n",
        "      <td> Adult- Age 22-59</td>\n",
        "      <td>NaN</td>\n",
        "      <td> 22.764384</td>\n",
        "    </tr>\n",
        "  </tbody>\n",
        "</table>\n",
        "</div>"
       ],
       "metadata": {},
       "output_type": "pyout",
       "prompt_number": 24,
       "text": [
        "               Subject Type  Visit     AGE_04\n",
        "URSI                                         \n",
        "A00029979   Adult-Age 18-21    NaN  20.153425\n",
        "A00037531   Adult-Age 18-21    NaN  21.602740\n",
        "A00032007   Adult-Age 18-21    NaN  20.317808\n",
        "A00031166   Adult-Age 18-21    NaN  21.356164\n",
        "A00031459   Adult-Age 18-21    NaN  20.276712\n",
        "A00037476   Adult-Age 18-21    NaN  20.857534\n",
        "A00035926   Adult-Age 18-21    NaN  21.167123\n",
        "A00028287   Adult-Age 18-21    NaN  21.290411\n",
        "A00029076   Adult-Age 18-21    NaN  20.926027\n",
        "A00035960   Adult-Age 18-21    NaN  21.139726\n",
        "A00029092   Adult-Age 18-21    NaN  20.635616\n",
        "A00028656   Adult-Age 18-21    NaN  20.772603\n",
        "A00033248   Adult-Age 18-21    NaN  21.682192\n",
        "A00028429   Adult-Age 18-21    NaN  20.893151\n",
        "A00033640   Adult-Age 18-21    NaN  21.219178\n",
        "A00037116  Adult- Age 22-59    NaN  23.715068\n",
        "A00031604  Adult- Age 22-59    NaN  25.654795\n",
        "A00010893  Adult- Age 22-59    NaN  28.909589\n",
        "A00029127  Adult- Age 22-59    NaN  23.920548\n",
        "A00037266  Adult- Age 22-59    NaN  24.835616\n",
        "A00028177  Adult- Age 22-59    NaN  24.241096\n",
        "A00028207  Adult- Age 22-59    NaN  26.931507\n",
        "A00028352  Adult- Age 22-59    NaN  23.830137\n",
        "A00029231  Adult- Age 22-59    NaN  23.290411\n",
        "A00028606  Adult- Age 22-59    NaN  22.073973\n",
        "A00034854  Adult- Age 22-59    NaN  21.282192\n",
        "A00037118  Adult- Age 22-59    NaN  27.079452\n",
        "A00034193  Adult- Age 22-59    NaN  27.901370\n",
        "A00035608  Adult- Age 22-59    NaN  24.391781\n",
        "A00035553  Adult- Age 22-59    NaN  23.309589\n",
        "A00035881  Adult- Age 22-59    NaN  24.526027\n",
        "A00033232  Adult- Age 22-59    NaN  27.939726\n",
        "A00037378  Adult- Age 22-59    NaN  24.145205\n",
        "A00033247  Adult- Age 22-59    NaN  22.032877\n",
        "A00033747  Adult- Age 22-59    NaN  26.257534\n",
        "A00035840  Adult- Age 22-59    NaN  25.405479\n",
        "A00031549  Adult- Age 22-59    NaN  23.446575\n",
        "A00033643  Adult- Age 22-59    NaN  26.293151\n",
        "A00035943  Adult- Age 22-59    NaN  26.263014\n",
        "A00028694  Adult- Age 22-59    NaN  25.032877\n",
        "A00031272  Adult- Age 22-59    NaN  22.167123\n",
        "A00035363  Adult- Age 22-59    NaN  22.172603\n",
        "A00008399  Adult- Age 22-59    NaN  23.389041\n",
        "A00037117  Adult- Age 22-59    NaN  27.558904\n",
        "A00035879  Adult- Age 22-59    NaN  22.545205\n",
        "A00037122  Adult- Age 22-59    NaN  27.101370\n",
        "A00023510  Adult- Age 22-59    NaN  23.342466\n",
        "A00028185  Adult- Age 22-59    NaN  26.569863\n",
        "A00037647  Adult- Age 22-59    NaN  24.520548\n",
        "A00027544  Adult- Age 22-59    NaN  22.764384"
       ]
      }
     ],
     "prompt_number": 24
    },
    {
     "cell_type": "heading",
     "level": 2,
     "metadata": {},
     "source": [
      "Loading more data"
     ]
    },
    {
     "cell_type": "markdown",
     "metadata": {},
     "source": [
      "Let's load some more data. MRI scanning log."
     ]
    },
    {
     "cell_type": "code",
     "collapsed": false,
     "input": [
      "mri = pd.read_csv('3760_MRI Log Sheet_20131129.csv', skiprows=1, index_col=0)\n",
      "mri[mri.columns[:7]][:5]"
     ],
     "language": "python",
     "metadata": {},
     "outputs": [
      {
       "html": [
        "<div style=\"max-height:1000px;max-width:1500px;overflow:auto;\">\n",
        "<table border=\"1\" class=\"dataframe\">\n",
        "  <thead>\n",
        "    <tr style=\"text-align: right;\">\n",
        "      <th></th>\n",
        "      <th>Subject Type</th>\n",
        "      <th>Visit</th>\n",
        "      <th>MRI_01</th>\n",
        "      <th>MRI_02</th>\n",
        "      <th>MRI_03</th>\n",
        "      <th>MRI_04</th>\n",
        "      <th>MRI_18</th>\n",
        "    </tr>\n",
        "    <tr>\n",
        "      <th>URSI</th>\n",
        "      <th></th>\n",
        "      <th></th>\n",
        "      <th></th>\n",
        "      <th></th>\n",
        "      <th></th>\n",
        "      <th></th>\n",
        "      <th></th>\n",
        "    </tr>\n",
        "  </thead>\n",
        "  <tbody>\n",
        "    <tr>\n",
        "      <th>A00031219</th>\n",
        "      <td> Adolescent- Age  16-17</td>\n",
        "      <td>NaN</td>\n",
        "      <td> 2</td>\n",
        "      <td> 2</td>\n",
        "      <td> NaN</td>\n",
        "      <td> 13:30</td>\n",
        "      <td> 14:35</td>\n",
        "    </tr>\n",
        "    <tr>\n",
        "      <th>A00037458</th>\n",
        "      <td> Adolescent- Age  16-17</td>\n",
        "      <td>NaN</td>\n",
        "      <td> 2</td>\n",
        "      <td> 2</td>\n",
        "      <td> NaN</td>\n",
        "      <td> 13:07</td>\n",
        "      <td> 14:03</td>\n",
        "    </tr>\n",
        "    <tr>\n",
        "      <th>A00034073</th>\n",
        "      <td> Adolescent- Age  16-17</td>\n",
        "      <td>NaN</td>\n",
        "      <td> 2</td>\n",
        "      <td> 1</td>\n",
        "      <td> NaN</td>\n",
        "      <td> 12:37</td>\n",
        "      <td> 13:35</td>\n",
        "    </tr>\n",
        "    <tr>\n",
        "      <th>A00034074</th>\n",
        "      <td> Adolescent- Age  16-17</td>\n",
        "      <td>NaN</td>\n",
        "      <td> 1</td>\n",
        "      <td> 2</td>\n",
        "      <td> NaN</td>\n",
        "      <td> 09:11</td>\n",
        "      <td> 10:09</td>\n",
        "    </tr>\n",
        "    <tr>\n",
        "      <th>A00035940</th>\n",
        "      <td> Adolescent- Age  16-17</td>\n",
        "      <td>NaN</td>\n",
        "      <td> 2</td>\n",
        "      <td> 1</td>\n",
        "      <td> NaN</td>\n",
        "      <td> 11:44</td>\n",
        "      <td> 12:42</td>\n",
        "    </tr>\n",
        "  </tbody>\n",
        "</table>\n",
        "</div>"
       ],
       "metadata": {},
       "output_type": "pyout",
       "prompt_number": 25,
       "text": [
        "                     Subject Type  Visit MRI_01 MRI_02 MRI_03 MRI_04 MRI_18\n",
        "URSI                                                                       \n",
        "A00031219  Adolescent- Age  16-17    NaN      2      2    NaN  13:30  14:35\n",
        "A00037458  Adolescent- Age  16-17    NaN      2      2    NaN  13:07  14:03\n",
        "A00034073  Adolescent- Age  16-17    NaN      2      1    NaN  12:37  13:35\n",
        "A00034074  Adolescent- Age  16-17    NaN      1      2    NaN  09:11  10:09\n",
        "A00035940  Adolescent- Age  16-17    NaN      2      1    NaN  11:44  12:42"
       ]
      }
     ],
     "prompt_number": 25
    },
    {
     "cell_type": "markdown",
     "metadata": {},
     "source": [
      "Note that time stamps are not parsed - they are still strings."
     ]
    },
    {
     "cell_type": "code",
     "collapsed": false,
     "input": [
      "mri[\"MRI_04\"][0]"
     ],
     "language": "python",
     "metadata": {},
     "outputs": [
      {
       "metadata": {},
       "output_type": "pyout",
       "prompt_number": 26,
       "text": [
        "'13:30'"
       ]
      }
     ],
     "prompt_number": 26
    },
    {
     "cell_type": "markdown",
     "metadata": {},
     "source": [
      "If we would like to do work with this data we need to parse the time stamps. This will turn time strings into objects that can be compared, substracted etc."
     ]
    },
    {
     "cell_type": "code",
     "collapsed": false,
     "input": [
      "import time\n",
      "import datetime\n",
      "def parse_time(s):\n",
      "    try:\n",
      "        struct_time = time.strptime(s, \"%H:%M\")\n",
      "        return datetime.datetime.fromtimestamp(time.mktime(struct_time)).time()\n",
      "    except:\n",
      "        return NaN\n",
      "\n",
      "mri = pd.read_csv('3760_MRI Log Sheet_20131129.csv', \n",
      "                  skiprows=1, \n",
      "                  converters = {'MRI_04':parse_time, \n",
      "                                'MRI_18':parse_time},\n",
      "                  index_col='URSI')\n",
      "mri[\"MRI_04\"][0]"
     ],
     "language": "python",
     "metadata": {},
     "outputs": [
      {
       "metadata": {},
       "output_type": "pyout",
       "prompt_number": 27,
       "text": [
        "datetime.time(13, 30)"
       ]
      }
     ],
     "prompt_number": 27
    },
    {
     "cell_type": "code",
     "collapsed": false,
     "input": [
      "mri[mri.columns[:7]][:5]"
     ],
     "language": "python",
     "metadata": {},
     "outputs": [
      {
       "html": [
        "<div style=\"max-height:1000px;max-width:1500px;overflow:auto;\">\n",
        "<table border=\"1\" class=\"dataframe\">\n",
        "  <thead>\n",
        "    <tr style=\"text-align: right;\">\n",
        "      <th></th>\n",
        "      <th>Subject Type</th>\n",
        "      <th>Visit</th>\n",
        "      <th>MRI_01</th>\n",
        "      <th>MRI_02</th>\n",
        "      <th>MRI_03</th>\n",
        "      <th>MRI_04</th>\n",
        "      <th>MRI_18</th>\n",
        "    </tr>\n",
        "    <tr>\n",
        "      <th>URSI</th>\n",
        "      <th></th>\n",
        "      <th></th>\n",
        "      <th></th>\n",
        "      <th></th>\n",
        "      <th></th>\n",
        "      <th></th>\n",
        "      <th></th>\n",
        "    </tr>\n",
        "  </thead>\n",
        "  <tbody>\n",
        "    <tr>\n",
        "      <th>A00031219</th>\n",
        "      <td> Adolescent- Age  16-17</td>\n",
        "      <td>NaN</td>\n",
        "      <td> 2</td>\n",
        "      <td> 2</td>\n",
        "      <td> NaN</td>\n",
        "      <td> 13:30:00</td>\n",
        "      <td> 14:35:00</td>\n",
        "    </tr>\n",
        "    <tr>\n",
        "      <th>A00037458</th>\n",
        "      <td> Adolescent- Age  16-17</td>\n",
        "      <td>NaN</td>\n",
        "      <td> 2</td>\n",
        "      <td> 2</td>\n",
        "      <td> NaN</td>\n",
        "      <td> 13:07:00</td>\n",
        "      <td> 14:03:00</td>\n",
        "    </tr>\n",
        "    <tr>\n",
        "      <th>A00034073</th>\n",
        "      <td> Adolescent- Age  16-17</td>\n",
        "      <td>NaN</td>\n",
        "      <td> 2</td>\n",
        "      <td> 1</td>\n",
        "      <td> NaN</td>\n",
        "      <td> 12:37:00</td>\n",
        "      <td> 13:35:00</td>\n",
        "    </tr>\n",
        "    <tr>\n",
        "      <th>A00034074</th>\n",
        "      <td> Adolescent- Age  16-17</td>\n",
        "      <td>NaN</td>\n",
        "      <td> 1</td>\n",
        "      <td> 2</td>\n",
        "      <td> NaN</td>\n",
        "      <td> 09:11:00</td>\n",
        "      <td> 10:09:00</td>\n",
        "    </tr>\n",
        "    <tr>\n",
        "      <th>A00035940</th>\n",
        "      <td> Adolescent- Age  16-17</td>\n",
        "      <td>NaN</td>\n",
        "      <td> 2</td>\n",
        "      <td> 1</td>\n",
        "      <td> NaN</td>\n",
        "      <td> 11:44:00</td>\n",
        "      <td> 12:42:00</td>\n",
        "    </tr>\n",
        "  </tbody>\n",
        "</table>\n",
        "</div>"
       ],
       "metadata": {},
       "output_type": "pyout",
       "prompt_number": 28,
       "text": [
        "                     Subject Type  Visit MRI_01 MRI_02 MRI_03    MRI_04  \\\n",
        "URSI                                                                      \n",
        "A00031219  Adolescent- Age  16-17    NaN      2      2    NaN  13:30:00   \n",
        "A00037458  Adolescent- Age  16-17    NaN      2      2    NaN  13:07:00   \n",
        "A00034073  Adolescent- Age  16-17    NaN      2      1    NaN  12:37:00   \n",
        "A00034074  Adolescent- Age  16-17    NaN      1      2    NaN  09:11:00   \n",
        "A00035940  Adolescent- Age  16-17    NaN      2      1    NaN  11:44:00   \n",
        "\n",
        "             MRI_18  \n",
        "URSI                 \n",
        "A00031219  14:35:00  \n",
        "A00037458  14:03:00  \n",
        "A00034073  13:35:00  \n",
        "A00034074  10:09:00  \n",
        "A00035940  12:42:00  "
       ]
      }
     ],
     "prompt_number": 28
    },
    {
     "cell_type": "code",
     "collapsed": false,
     "input": [
      "mri['MRI_04'][:10]"
     ],
     "language": "python",
     "metadata": {},
     "outputs": [
      {
       "metadata": {},
       "output_type": "pyout",
       "prompt_number": 29,
       "text": [
        "URSI\n",
        "A00031219    13:30:00\n",
        "A00037458    13:07:00\n",
        "A00034073    12:37:00\n",
        "A00034074    09:11:00\n",
        "A00035940    11:44:00\n",
        "A00037160    09:40:00\n",
        "A00037123    12:26:00\n",
        "A00029979    09:08:00\n",
        "A00028844    12:25:00\n",
        "A00037531    09:22:00\n",
        "Name: MRI_04, dtype: object"
       ]
      }
     ],
     "prompt_number": 29
    },
    {
     "cell_type": "heading",
     "level": 2,
     "metadata": {},
     "source": [
      "Calculating age differences"
     ]
    },
    {
     "cell_type": "markdown",
     "metadata": {},
     "source": [
      "If \"MRI_04\" is the scan time is the age of participants scanned before noon significantly different from the age of participant scanned after noon?"
     ]
    },
    {
     "cell_type": "markdown",
     "metadata": {},
     "source": [
      "First thing we need to do is to combine our tables."
     ]
    },
    {
     "cell_type": "code",
     "collapsed": false,
     "input": [
      "combined = pd.merge(age, mri, left_index=True, right_index=True, how=\"outer\")\n",
      "len(combined.index)"
     ],
     "language": "python",
     "metadata": {},
     "outputs": [
      {
       "metadata": {},
       "output_type": "pyout",
       "prompt_number": 30,
       "text": [
        "265"
       ]
      }
     ],
     "prompt_number": 30
    },
    {
     "cell_type": "markdown",
     "metadata": {},
     "source": [
      "Let's select the mornig and afternoon subjects"
     ]
    },
    {
     "cell_type": "code",
     "collapsed": false,
     "input": [
      "morning = combined[combined['MRI_04'] <= datetime.time(12)]\n",
      "print len(morning)\n",
      "afternoon = combined[combined['MRI_04'] > datetime.time(12)]\n",
      "print len(afternoon)"
     ],
     "language": "python",
     "metadata": {},
     "outputs": [
      {
       "output_type": "stream",
       "stream": "stdout",
       "text": [
        "119\n",
        "118\n"
       ]
      }
     ],
     "prompt_number": 31
    },
    {
     "cell_type": "markdown",
     "metadata": {},
     "source": [
      "Notice that those number don't add up - that's because of the missing values"
     ]
    },
    {
     "cell_type": "code",
     "collapsed": false,
     "input": [
      "morning[[\"AGE_04\"]].describe()"
     ],
     "language": "python",
     "metadata": {},
     "outputs": [
      {
       "html": [
        "<div style=\"max-height:1000px;max-width:1500px;overflow:auto;\">\n",
        "<table border=\"1\" class=\"dataframe\">\n",
        "  <thead>\n",
        "    <tr style=\"text-align: right;\">\n",
        "      <th></th>\n",
        "      <th>AGE_04</th>\n",
        "    </tr>\n",
        "  </thead>\n",
        "  <tbody>\n",
        "    <tr>\n",
        "      <th>count</th>\n",
        "      <td> 119.000000</td>\n",
        "    </tr>\n",
        "    <tr>\n",
        "      <th>mean</th>\n",
        "      <td>  40.212133</td>\n",
        "    </tr>\n",
        "    <tr>\n",
        "      <th>std</th>\n",
        "      <td>  19.580312</td>\n",
        "    </tr>\n",
        "    <tr>\n",
        "      <th>min</th>\n",
        "      <td>   6.972603</td>\n",
        "    </tr>\n",
        "    <tr>\n",
        "      <th>25%</th>\n",
        "      <td>  21.642466</td>\n",
        "    </tr>\n",
        "    <tr>\n",
        "      <th>50%</th>\n",
        "      <td>  40.583562</td>\n",
        "    </tr>\n",
        "    <tr>\n",
        "      <th>75%</th>\n",
        "      <td>  55.663014</td>\n",
        "    </tr>\n",
        "    <tr>\n",
        "      <th>max</th>\n",
        "      <td>  81.906849</td>\n",
        "    </tr>\n",
        "  </tbody>\n",
        "</table>\n",
        "</div>"
       ],
       "metadata": {},
       "output_type": "pyout",
       "prompt_number": 32,
       "text": [
        "           AGE_04\n",
        "count  119.000000\n",
        "mean    40.212133\n",
        "std     19.580312\n",
        "min      6.972603\n",
        "25%     21.642466\n",
        "50%     40.583562\n",
        "75%     55.663014\n",
        "max     81.906849"
       ]
      }
     ],
     "prompt_number": 32
    },
    {
     "cell_type": "code",
     "collapsed": false,
     "input": [
      "afternoon[[\"AGE_04\"]].describe()"
     ],
     "language": "python",
     "metadata": {},
     "outputs": [
      {
       "html": [
        "<div style=\"max-height:1000px;max-width:1500px;overflow:auto;\">\n",
        "<table border=\"1\" class=\"dataframe\">\n",
        "  <thead>\n",
        "    <tr style=\"text-align: right;\">\n",
        "      <th></th>\n",
        "      <th>AGE_04</th>\n",
        "    </tr>\n",
        "  </thead>\n",
        "  <tbody>\n",
        "    <tr>\n",
        "      <th>count</th>\n",
        "      <td> 118.000000</td>\n",
        "    </tr>\n",
        "    <tr>\n",
        "      <th>mean</th>\n",
        "      <td>  40.561621</td>\n",
        "    </tr>\n",
        "    <tr>\n",
        "      <th>std</th>\n",
        "      <td>  20.227327</td>\n",
        "    </tr>\n",
        "    <tr>\n",
        "      <th>min</th>\n",
        "      <td>   9.819178</td>\n",
        "    </tr>\n",
        "    <tr>\n",
        "      <th>25%</th>\n",
        "      <td>  21.525342</td>\n",
        "    </tr>\n",
        "    <tr>\n",
        "      <th>50%</th>\n",
        "      <td>  39.968493</td>\n",
        "    </tr>\n",
        "    <tr>\n",
        "      <th>75%</th>\n",
        "      <td>  57.641096</td>\n",
        "    </tr>\n",
        "    <tr>\n",
        "      <th>max</th>\n",
        "      <td>  84.780822</td>\n",
        "    </tr>\n",
        "  </tbody>\n",
        "</table>\n",
        "</div>"
       ],
       "metadata": {},
       "output_type": "pyout",
       "prompt_number": 33,
       "text": [
        "           AGE_04\n",
        "count  118.000000\n",
        "mean    40.561621\n",
        "std     20.227327\n",
        "min      9.819178\n",
        "25%     21.525342\n",
        "50%     39.968493\n",
        "75%     57.641096\n",
        "max     84.780822"
       ]
      }
     ],
     "prompt_number": 33
    },
    {
     "cell_type": "code",
     "collapsed": false,
     "input": [
      "hist([morning['AGE_04'], afternoon['AGE_04']], bins=20, label=[\"Morning\", \"Afternoon\"])\n",
      "xlabel(\"Age [years]\")\n",
      "legend()"
     ],
     "language": "python",
     "metadata": {},
     "outputs": [
      {
       "metadata": {},
       "output_type": "pyout",
       "prompt_number": 34,
       "text": [
        "<matplotlib.legend.Legend at 0x33ad490>"
       ]
      },
      {
       "metadata": {},
       "output_type": "display_data",
       "png": "[encoded data removed]",
       "text": [
        "<matplotlib.figure.Figure at 0x303f410>"
       ]
      }
     ],
     "prompt_number": 34
    },
    {
     "cell_type": "markdown",
     "metadata": {},
     "source": [
      "The age of people that were scanned in the afternoon is slightly higher, but is it significant? "
     ]
    },
    {
     "cell_type": "code",
     "collapsed": false,
     "input": [
      "from scipy.stats import ttest_ind\n",
      "t, p = ttest_ind(morning[['AGE_04']].dropna(), afternoon[['AGE_04']].dropna())\n",
      "print p"
     ],
     "language": "python",
     "metadata": {},
     "outputs": [
      {
       "output_type": "stream",
       "stream": "stdout",
       "text": [
        "[ 0.89261088]\n"
       ]
      }
     ],
     "prompt_number": 35
    }
   ],
   "metadata": {}
  }
 ]
}